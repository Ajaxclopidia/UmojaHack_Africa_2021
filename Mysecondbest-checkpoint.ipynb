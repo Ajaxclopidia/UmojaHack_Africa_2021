{
 "cells": [
  {
   "cell_type": "markdown",
   "metadata": {
    "id": "47_7sBsU8JYt"
   },
   "source": [
    "## UmojaHack Africa 2021 #3: Financial Resilience Challenge (BEGINNER) by UmojaHack Africa\n",
    "\n",
    "Can you predict if an individual will be able to make a payment in an emergency situation?\n",
    "\n",
    "The objective of this challenge is to build a machine learning model to predict which individuals across Africa and around the world are most likely to be financially resilient.\n",
    "\n",
    "\n",
    "![Umoja Hack](https://zindpublic.blob.core.windows.net/public/uploads/competition/image/151/thumb_cdf71374-9857-44bb-8216-5f8c67afb51f.png)\n",
    "\n",
    "This is a simple Python starter notebook to get you started with the Financial Resilience Challenge.\n",
    "\n",
    "This notebook covers:\n",
    "- Loading the data\n",
    "- Simple EDA and an example of feature enginnering\n",
    "- Data preprocessing and data wrangling\n",
    "- Creating a simple model\n",
    "- Making a submission\n",
    "- Some tips for improving your score"
   ]
  },
  {
   "cell_type": "code",
   "execution_count": null,
   "metadata": {
    "id": "GsxsCJyNFxBZ"
   },
   "outputs": [],
   "source": [
    "# Import libraries\n",
    "import pandas as pd\n",
    "import numpy as np\n",
    "import matplotlib.pyplot as plt\n",
    "import seaborn as sns\n",
    "from sklearn.metrics import auc, classification_report, roc_auc_score\n",
    "from sklearn.model_selection import train_test_split\n",
    "from lightgbm import LGBMClassifier\n",
    "from sklearn.ensemble import RandomForestClassifier\n",
    "pd.set_option('max_colwidth', 500)\n",
    "%matplotlib inline\n",
    "import warnings\n",
    "warnings.filterwarnings('ignore')"
   ]
  },
  {
   "cell_type": "code",
   "execution_count": null,
   "metadata": {
    "id": "0_7BVS92U0Ti"
   },
   "outputs": [],
   "source": [
    "# Load files\n",
    "train = pd.read_csv('Train.csv')\n",
    "test = pd.read_csv('Test.csv')\n",
    "samplesubmission = pd.read_csv('SampleSubmission.csv')\n",
    "variable_definations = pd.read_csv('VariableDefinitions.csv')"
   ]
  },
  {
   "cell_type": "code",
   "execution_count": null,
   "metadata": {
    "colab": {
     "base_uri": "https://localhost:8080/",
     "height": 635
    },
    "id": "f_LhTb6nU0Se",
    "outputId": "b9882c53-9626-41b1-da7e-0299c7d2a3f6"
   },
   "outputs": [],
   "source": [
    "# Preview the first five rows of the train set\n",
    "train.head()"
   ]
  },
  {
   "cell_type": "code",
   "execution_count": null,
   "metadata": {
    "colab": {
     "base_uri": "https://localhost:8080/",
     "height": 602
    },
    "id": "c0KotvwrU0PP",
    "outputId": "9eef902c-3d8e-47a9-a340-6bc9c7aae1a0"
   },
   "outputs": [],
   "source": [
    "# Preview the first five rows of the test set\n",
    "test.head()"
   ]
  },
  {
   "cell_type": "code",
   "execution_count": null,
   "metadata": {
    "colab": {
     "base_uri": "https://localhost:8080/",
     "height": 195
    },
    "id": "wU1bcDZSU0Nj",
    "outputId": "370f83aa-3fe6-475f-d2ed-d966a3431647"
   },
   "outputs": [],
   "source": [
    "# Preview the first five rows of the sample submission file\n",
    "samplesubmission.head()"
   ]
  },
  {
   "cell_type": "code",
   "execution_count": null,
   "metadata": {
    "colab": {
     "base_uri": "https://localhost:8080/",
     "height": 1000
    },
    "id": "UFh6oAKDFyws",
    "outputId": "b7801036-dfb5-4172-b045-b1155e723706"
   },
   "outputs": [],
   "source": [
    "# Preview variable definations\n",
    "variable_definations"
   ]
  },
  {
   "cell_type": "code",
   "execution_count": null,
   "metadata": {
    "colab": {
     "base_uri": "https://localhost:8080/"
    },
    "id": "PdVvmpG_GRxA",
    "outputId": "2efee873-8ff7-44de-8570-a7575c8cf0f4"
   },
   "outputs": [],
   "source": [
    "# Check the shape of the train and test sets\n",
    "print(f'The shape of the train set is: {train.shape}\\nThe shape of the test set is: {test.shape}')"
   ]
  },
  {
   "cell_type": "markdown",
   "metadata": {
    "id": "9CO1R3hi8FJQ"
   },
   "source": [
    "### Check for missing values"
   ]
  },
  {
   "cell_type": "code",
   "execution_count": null,
   "metadata": {
    "colab": {
     "base_uri": "https://localhost:8080/",
     "height": 609
    },
    "id": "iWgHvxqYGRux",
    "outputId": "979fb804-723c-466c-81ff-7216d3e760cd"
   },
   "outputs": [],
   "source": [
    "# Check if there any missing values in train set\n",
    "ax = train.isna().sum().sort_values().plot(kind = 'barh', figsize = (9, 10))\n",
    "plt.title('Percentage of Missing Values Per Column in Train Set', fontdict={'size':15})\n",
    "for p in ax.patches:\n",
    "    percentage ='{:,.0f}%'.format((p.get_width()/train.shape[0])*100)\n",
    "    width, height =p.get_width(),p.get_height()\n",
    "    x=p.get_x()+width+0.02\n",
    "    y=p.get_y()+height/2\n",
    "    ax.annotate(percentage,(x,y))"
   ]
  },
  {
   "cell_type": "code",
   "execution_count": null,
   "metadata": {
    "colab": {
     "base_uri": "https://localhost:8080/",
     "height": 609
    },
    "id": "6A9jdEtoGRsi",
    "outputId": "ca04afd2-6372-4b8a-b8af-8ff177185145"
   },
   "outputs": [],
   "source": [
    "# Check if there missing values in test set\n",
    "ax = test.isna().sum().sort_values().plot(kind = 'barh', figsize = (9, 10))\n",
    "plt.title('Percentage of Missing Values Per Column in Test Set', fontdict={'size':15})\n",
    "\n",
    "for p in ax.patches:\n",
    "    percentage ='{:,.1f}%'.format((p.get_width()/test.shape[0])*100)\n",
    "    width, height =p.get_width(),p.get_height()\n",
    "    x=p.get_x()+width+0.02\n",
    "    y=p.get_y()+height/2\n",
    "    ax.annotate(percentage,(x,y))"
   ]
  },
  {
   "cell_type": "code",
   "execution_count": null,
   "metadata": {
    "colab": {
     "base_uri": "https://localhost:8080/"
    },
    "id": "PnGVLoE2GRqL",
    "outputId": "6f96e2e1-54f7-4d22-ee10-8ad69ec8bb8f"
   },
   "outputs": [],
   "source": [
    "# Check for duplicates\n",
    "train.duplicated().any(), test.duplicated().any()"
   ]
  },
  {
   "cell_type": "markdown",
   "metadata": {
    "id": "SiZR9Zu6I5xo"
   },
   "source": [
    "## Distribution of the target variable"
   ]
  },
  {
   "cell_type": "code",
   "execution_count": null,
   "metadata": {
    "colab": {
     "base_uri": "https://localhost:8080/",
     "height": 404
    },
    "id": "J5xyqTXqHCYo",
    "outputId": "a5e94eb4-1475-4144-c4ea-0281f8784acd"
   },
   "outputs": [],
   "source": [
    "plt.figure(figsize=(7, 6))\n",
    "sns.countplot(train.target)\n",
    "plt.title('Target Variable Distribution');"
   ]
  },
  {
   "cell_type": "markdown",
   "metadata": {
    "id": "2r3BS3IcKP7f"
   },
   "source": [
    "This shows us that the target (Can you make a payment if you were in an emergency) is fairly balanced. The majority class in this dataset are people who can make a payment incase of an emergency"
   ]
  },
  {
   "cell_type": "code",
   "execution_count": null,
   "metadata": {
    "colab": {
     "base_uri": "https://localhost:8080/",
     "height": 523
    },
    "id": "izjup23WHCVr",
    "outputId": "d4fc229a-9618-40f2-99c0-7aed0dbfe7fb"
   },
   "outputs": [],
   "source": [
    "# Q1 - Has ATM/debit card\n",
    "plt.figure(figsize=(8, 7))\n",
    "ax =sns.countplot(train.Q1)\n",
    "ax.set_xticklabels(['Yes', 'No', 'Don\"t Know', 'Refused to answer'], rotation=45 )\n",
    "plt.title('Distribution of Q1 - Has ATM/debit card', fontdict = {'size': 15});"
   ]
  },
  {
   "cell_type": "markdown",
   "metadata": {
    "id": "4WpL_l95Nlxq"
   },
   "source": [
    "This shows that most people do not own a debit or ATM card"
   ]
  },
  {
   "cell_type": "markdown",
   "metadata": {
    "id": "g9oZ14qYN1FY"
   },
   "source": [
    "## Combine train and test set for easy preprocessing "
   ]
  },
  {
   "cell_type": "code",
   "execution_count": null,
   "metadata": {
    "colab": {
     "base_uri": "https://localhost:8080/"
    },
    "id": "8PH2LhntHCTj",
    "outputId": "b0c166b3-28bf-4dc4-f072-4219e99d4c0c"
   },
   "outputs": [],
   "source": [
    "# Combine train and test set\n",
    "ntrain = train.shape[0] # to be used to split train and test set from the combined dataframe\n",
    "\n",
    "all_data = pd.concat((train, test)).reset_index(drop=True)\n",
    "print(f'The shape of the combined dataframe is: {all_data.shape}')"
   ]
  },
  {
   "cell_type": "code",
   "execution_count": null,
   "metadata": {
    "colab": {
     "base_uri": "https://localhost:8080/"
    },
    "id": "4chstsvnHCRS",
    "outputId": "528302e0-53f9-4f9c-9289-9952fd05bb3a"
   },
   "outputs": [],
   "source": [
    "# Check the column names and datatypes\n",
    "all_data.info()"
   ]
  },
  {
   "cell_type": "code",
   "execution_count": null,
   "metadata": {
    "colab": {
     "base_uri": "https://localhost:8080/"
    },
    "id": "3AADdmJ6HCOr",
    "outputId": "c4b4a051-37e9-403d-f042-567cb49351e4"
   },
   "outputs": [],
   "source": [
    "# Category columns\n",
    "cat_cols = ['country',\t'region', 'owns_mobile'] + [x for x in all_data.columns if x.startswith('Q')]\n",
    "num_cols = ['age', 'population']\n",
    "\n",
    "# Change columns to their respective datatypes\n",
    "all_data[cat_cols] = all_data[cat_cols].astype('category')\n",
    "\n",
    "# Confirm whether the changes have been successful\n",
    "all_data.info()"
   ]
  },
  {
   "cell_type": "markdown",
   "metadata": {
    "id": "_QFo9TxSkY6w"
   },
   "source": [
    "### Number of unique values per categorical column"
   ]
  },
  {
   "cell_type": "code",
   "execution_count": null,
   "metadata": {
    "colab": {
     "base_uri": "https://localhost:8080/"
    },
    "id": "2gc8aFu_kcU6",
    "outputId": "8eff12c2-e4c7-4ff8-cbd6-a31b66d5f592"
   },
   "outputs": [],
   "source": [
    "# Check unique values for each categorical column\n",
    "for col in cat_cols:\n",
    "  print(col, all_data[col].nunique())"
   ]
  },
  {
   "cell_type": "markdown",
   "metadata": {
    "id": "wUA3IqW42Oeq"
   },
   "source": [
    "## Fill in missing values\n",
    "Missing values can be filled using different strategies\n",
    " - Mean\n",
    " - Max\n",
    " - Min\n",
    " - for categorical variables - mode\n",
    " - [sklearn SimpleImputer](https://scikit-learn.org/stable/modules/generated/sklearn.impute.SimpleImputer.html)\n",
    " - Others... do more reasearch"
   ]
  },
  {
   "cell_type": "code",
   "execution_count": null,
   "metadata": {
    "colab": {
     "base_uri": "https://localhost:8080/"
    },
    "id": "VQ4t3UbC2Nsy",
    "outputId": "176e804c-12a8-4f76-8a12-af4de9a2665f"
   },
   "outputs": [],
   "source": [
    "# Fill in missing values\n",
    "# For cat cols and date cols fill in with mode and for num cols fill in with 9999\n",
    "for col in all_data.columns:\n",
    "  if col in cat_cols:\n",
    "    all_data[col] = all_data[col].fillna(all_data[col].mode()[0])\n",
    "  elif col in num_cols:\n",
    "    all_data[col] = all_data[col].fillna(all_data[col].fillna(9999))\n",
    "\n",
    "# Confirm that there aren't any missing values\n",
    "all_data[all_data.columns.difference(['target'])].isna().sum().any()"
   ]
  },
  {
   "cell_type": "markdown",
   "metadata": {
    "id": "3Hd9viOb2_c3"
   },
   "source": [
    "### Feature Engineering\n",
    "#### Try different strategies of dealing with categorical variables\n",
    " - One hot encoding\n",
    " - Label encoding\n",
    " - Target encoding\n",
    " - Reduce the number of unique values..."
   ]
  },
  {
   "cell_type": "code",
   "execution_count": null,
   "metadata": {
    "colab": {
     "base_uri": "https://localhost:8080/"
    },
    "id": "X2DUKqTb3UY-",
    "outputId": "428bb9c0-2d5c-4d68-b206-4ac1069a613d"
   },
   "outputs": [],
   "source": [
    "# Shape of data before encoding\n",
    "all_data.shape"
   ]
  },
  {
   "cell_type": "code",
   "execution_count": null,
   "metadata": {
    "colab": {
     "base_uri": "https://localhost:8080/",
     "height": 278
    },
    "id": "vQtjAQw92Np4",
    "outputId": "782fe9cb-276c-45f1-de3a-861f918fac54"
   },
   "outputs": [],
   "source": [
    "# Use one hot encoding to turn categorical features to numerical features\n",
    "# Encode categorical features\n",
    "all_data = pd.get_dummies(data = all_data, columns = cat_cols)\n",
    "all_data.head()"
   ]
  },
  {
   "cell_type": "code",
   "execution_count": null,
   "metadata": {
    "colab": {
     "base_uri": "https://localhost:8080/"
    },
    "id": "xijxGVyB3Z3K",
    "outputId": "aaeda529-cd48-4d0d-e3d3-941e7e518c26"
   },
   "outputs": [],
   "source": [
    "# Shape of data after encoding\n",
    "all_data.shape"
   ]
  },
  {
   "cell_type": "code",
   "execution_count": null,
   "metadata": {
    "colab": {
     "base_uri": "https://localhost:8080/"
    },
    "id": "xXRt7bHS3fhH",
    "outputId": "c21bc672-e690-4c0e-a106-304978846a4f"
   },
   "outputs": [],
   "source": [
    "# Separate train and test data from the combined dataframe\n",
    "train_df = all_data[:ntrain]\n",
    "test_df = all_data[ntrain:]\n",
    "\n",
    "# Check the shapes of the split dataset\n",
    "train_df.shape, test_df.shape"
   ]
  },
  {
   "cell_type": "markdown",
   "metadata": {
    "id": "eDBSVM-S4E-h"
   },
   "source": [
    "### Training and making predictions\n",
    "\n",
    "- Is lgbm the best model for this challenge?\n",
    "- Parameter tuning\n",
    "  - Grid search, random search, perhaps bayesian search works better..."
   ]
  },
  {
   "cell_type": "code",
   "execution_count": null,
   "metadata": {
    "colab": {
     "base_uri": "https://localhost:8080/"
    },
    "id": "MzMVccR34ARy",
    "outputId": "b74bc80f-ec2a-41cb-de11-7e1793bb92c3"
   },
   "outputs": [],
   "source": [
    "# Select main columns to be used in training\n",
    "main_cols = all_data.columns.difference(['ID', 'target'])\n",
    "X = train_df[main_cols]\n",
    "y = train_df.target.astype(int)\n",
    "\n",
    "# Split data into train and test sets\n",
    "X_train, X_test, y_train, y_test = train_test_split(X,y,test_size=0.3, random_state=42)\n",
    "\n",
    "# Train model\n",
    "model = RandomForestClassifier()\n",
    "model.fit(X_train, y_train)\n",
    "\n",
    "# Make predictions\n",
    "y_pred = model.predict_proba(X_test)[:, 1]\n",
    "\n",
    "# Check the auc score of the model\n",
    "print(f'RandomForest AUC score on the X_test is: {roc_auc_score(y_test, y_pred)}\\n')\n",
    "\n",
    "# print classification report\n",
    "print(classification_report(y_test, [1 if x >= 0.5 else 0 for x in y_pred]))"
   ]
  },
  {
   "cell_type": "markdown",
   "metadata": {
    "id": "tFULqvbM659e"
   },
   "source": [
    "### Train different model and compare results"
   ]
  },
  {
   "cell_type": "code",
   "execution_count": null,
   "metadata": {
    "colab": {
     "base_uri": "https://localhost:8080/"
    },
    "id": "LC1epBQp5lcx",
    "outputId": "d047a285-5652-4d40-db5b-8c346efc47c6"
   },
   "outputs": [],
   "source": [
    "# Train model\n",
    "model = LGBMClassifier()\n",
    "model.fit(X_train, y_train)\n",
    "\n",
    "# Make predictions\n",
    "y_pred = model.predict_proba(X_test)[:, 1]\n",
    "\n",
    "# Check the auc score of the model\n",
    "print(f'LGBM AUC score on the X_test is: {roc_auc_score(y_test, y_pred)}\\n')\n",
    "\n",
    "# print classification report\n",
    "print(classification_report(y_test, [1 if x >= 0.5 else 0 for x in y_pred]))"
   ]
  },
  {
   "cell_type": "markdown",
   "metadata": {
    "id": "bXKU5avW6uaT"
   },
   "source": [
    "- There is a light improvement when using LGBMClassifier\n",
    "\n",
    "[More on AUC score](https://developers.google.com/machine-learning/crash-course/classification/roc-and-auc#:~:text=AUC%20represents%20the%20probability%20that,has%20an%20AUC%20of%201.0.)"
   ]
  },
  {
   "cell_type": "markdown",
   "metadata": {
    "id": "2L7-CX1c7l-u"
   },
   "source": [
    "### Making predictions of the test set and creating a submission file"
   ]
  },
  {
   "cell_type": "code",
   "execution_count": null,
   "metadata": {
    "colab": {
     "base_uri": "https://localhost:8080/",
     "height": 281
    },
    "id": "2CY70-KV5lYO",
    "outputId": "a928aaf6-c5c9-4e76-eda1-377e999617a1"
   },
   "outputs": [],
   "source": [
    "# Make prediction on the test set\n",
    "test_df = test_df[main_cols]\n",
    "predictions = model.predict_proba(test_df)[:, 1]\n",
    "\n",
    "# # Create a submission file\n",
    "sub_file = samplesubmission.copy()\n",
    "sub_file.target = predictions\n",
    "\n",
    "# # Check the distribution of your predictions\n",
    "sns.countplot([1 if x >= 0.5 else 0 for x in sub_file.target])\n",
    "plt.title('Predicted Variable Distribution');"
   ]
  },
  {
   "cell_type": "code",
   "execution_count": null,
   "metadata": {
    "colab": {
     "base_uri": "https://localhost:8080/",
     "height": 195
    },
    "id": "oroCrCK27v-4",
    "outputId": "6de7be09-47f7-41d7-e59e-1c30726c8c3f"
   },
   "outputs": [],
   "source": [
    "# Create a csv file and upload to zindi \n",
    "sub_file.to_csv('Baseline.csv', index = False)\n",
    "sub_file.head()"
   ]
  },
  {
   "cell_type": "markdown",
   "metadata": {
    "id": "co8AT8lL7y5s"
   },
   "source": [
    "###More Tips\n",
    "- Thorough EDA and domain knowledge sourcing\n",
    "- Re-group Categorical features \n",
    "- More Feature Engineering \n",
    "- Dataset balancing - oversampling, undersampling, SMOTE...\n",
    "- Ensembling of models \n",
    "- Cross-validation: Group folds, Stratified..."
   ]
  },
  {
   "cell_type": "markdown",
   "metadata": {
    "id": "ih0ejC9w7617"
   },
   "source": [
    "# ******************* GOOD LUCK!!! ***************************"
   ]
  }
 ],
 "metadata": {
  "colab": {
   "collapsed_sections": [],
   "name": "Financial_Resilience_Python_StarterNotebook.ipynb",
   "provenance": []
  },
  "kernelspec": {
   "display_name": "Python 3",
   "language": "python",
   "name": "python3"
  },
  "language_info": {
   "codemirror_mode": {
    "name": "ipython",
    "version": 3
   },
   "file_extension": ".py",
   "mimetype": "text/x-python",
   "name": "python",
   "nbconvert_exporter": "python",
   "pygments_lexer": "ipython3",
   "version": "3.8.5"
  }
 },
 "nbformat": 4,
 "nbformat_minor": 1
}
